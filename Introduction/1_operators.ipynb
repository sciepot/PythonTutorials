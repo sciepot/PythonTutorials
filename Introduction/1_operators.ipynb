{
 "cells": [
  {
   "cell_type": "markdown",
   "metadata": {},
   "source": [
    "Форматирование Строк (String)"
   ]
  },
  {
   "cell_type": "code",
   "execution_count": 2,
   "metadata": {},
   "outputs": [
    {
     "name": "stdout",
     "output_type": "stream",
     "text": [
      "У меня 6 яблок\n",
      "У меня 6 яблок\n",
      "У меня {apples} яблок\n"
     ]
    }
   ],
   "source": [
    "apples = 6\n",
    "\n",
    "# Необходимо поставить букву f перед строкой чтобы сделать ее шаблоном\n",
    "print(f'У меня {apples} яблок') \n",
    "\n",
    "# Второй стиль форматирование\n",
    "print('У меня {} яблок'.format(apples))\n",
    "\n",
    "# Без f вначале строки или .format в конце компилятор считает строк дословно\n",
    "print('У меня {apples} яблок')"
   ]
  },
  {
   "cell_type": "code",
   "execution_count": 1,
   "metadata": {},
   "outputs": [
    {
     "name": "stdout",
     "output_type": "stream",
     "text": [
      "У меня 6 яблок и 4 груш\n",
      "У меня 6 яблок и 4 груш\n",
      "У меня 10 фруктов\n"
     ]
    }
   ],
   "source": [
    "apples = 6\n",
    "pears = 4\n",
    "\n",
    "# Вы можете использовать несколько переменных в консоле\n",
    "print(f'У меня {apples} яблок и {pears} груш')\n",
    "print('У меня {} яблок и {} груш'.format(apples, pears))\n",
    "\n",
    "# Внутри фигурных скобок можно проводить арифметические и логические операции\n",
    "print(f'У меня {apples + pears} фруктов')"
   ]
  },
  {
   "cell_type": "markdown",
   "metadata": {},
   "source": [
    "Арифметические операторы"
   ]
  },
  {
   "cell_type": "code",
   "execution_count": 19,
   "metadata": {},
   "outputs": [],
   "source": [
    "x = 4\n",
    "y = 2\n",
    "\n",
    "# Простые арифметические операции\n",
    "a = x + y\n",
    "b = x - y\n",
    "c = x * y\n",
    "d = x / y\n",
    "\n",
    "# степень x^y\n",
    "e = x**y \n",
    "\n",
    "# корень из двух (всегда возвращает float)\n",
    "import math\n",
    "f = math.sqrt(x) \n",
    "\n",
    "# остаток\n",
    "g = 8 % 3\n",
    "\n",
    "# результат деления без остатка\n",
    "h = 8 // 3 "
   ]
  },
  {
   "cell_type": "code",
   "execution_count": 35,
   "metadata": {},
   "outputs": [
    {
     "name": "stdout",
     "output_type": "stream",
     "text": [
      "a + b\n",
      "5\n"
     ]
    }
   ],
   "source": [
    "a = 2\n",
    "b = 3\n",
    "\n",
    "# Выведит строку\n",
    "print('a + b')\n",
    "\n",
    "# Выведит значение\n",
    "print(a + b)"
   ]
  },
  {
   "cell_type": "markdown",
   "metadata": {},
   "source": [
    "Практические задания"
   ]
  },
  {
   "cell_type": "code",
   "execution_count": 3,
   "metadata": {},
   "outputs": [
    {
     "name": "stdout",
     "output_type": "stream",
     "text": [
      "Длина гипотенузы равна = 5.0\n"
     ]
    }
   ],
   "source": [
    "# Теорема Пифагора для нахождения гипотенузы\n",
    "\n",
    "import math\n",
    "a = int(input('Введите длину катета a:'))\n",
    "b = int(input('Введите длину катета b:'))\n",
    "\n",
    "\n",
    "c = math.sqrt(a**2 + b**2)\n",
    "print(f'Длина гипотенузы равна = {c}')"
   ]
  },
  {
   "cell_type": "code",
   "execution_count": 32,
   "metadata": {},
   "outputs": [
    {
     "name": "stdout",
     "output_type": "stream",
     "text": [
      "Сумма чисел от 1 до 100 равна 5050\n"
     ]
    }
   ],
   "source": [
    "# Арифметическая прогрессия (сумма чисел от 1 до 100)\n",
    "a = int(input('Введите первое число:'))\n",
    "b = int(input('Введите второе число:'))\n",
    "n = b - a + 1\n",
    "S = (a + b) / 2 * n\n",
    "print(f'Сумма чисел от {a} до {b} равна {int(S)}')"
   ]
  },
  {
   "cell_type": "code",
   "execution_count": 28,
   "metadata": {},
   "outputs": [
    {
     "name": "stdout",
     "output_type": "stream",
     "text": [
      "Первый корень равен -1.0\n",
      "Второй корень равен -1.0\n"
     ]
    }
   ],
   "source": [
    "# Корни квадратного уравнения для дискриминанта больше 0\n",
    "a = int(input('Введите a:'))\n",
    "b = int(input('Введите b:'))\n",
    "c = int(input('Введите c:'))\n",
    "D = b**2 - 4 * a * c\n",
    "x1 = (- b + math.sqrt(D)) / (2 * a)\n",
    "x2 = (- b - math.sqrt(D)) / (2 * a)\n",
    "print(f'Первый корень равен {x1}')\n",
    "print(f'Второй корень равен {x2}')"
   ]
  },
  {
   "cell_type": "markdown",
   "metadata": {},
   "source": [
    "Логические операторы"
   ]
  },
  {
   "cell_type": "code",
   "execution_count": 39,
   "metadata": {},
   "outputs": [
    {
     "name": "stdout",
     "output_type": "stream",
     "text": [
      "True\n",
      "False\n",
      "True\n",
      "False\n",
      "False\n",
      "True\n"
     ]
    }
   ],
   "source": [
    "a = 14\n",
    "b = 15\n",
    "print(a < b)\n",
    "print(a > b)\n",
    "print(a <= b)\n",
    "print(a >= b)\n",
    "print(a == b)\n",
    "print(a != b)\n"
   ]
  }
 ],
 "metadata": {
  "kernelspec": {
   "display_name": "Python 3",
   "language": "python",
   "name": "python3"
  },
  "language_info": {
   "codemirror_mode": {
    "name": "ipython",
    "version": 3
   },
   "file_extension": ".py",
   "mimetype": "text/x-python",
   "name": "python",
   "nbconvert_exporter": "python",
   "pygments_lexer": "ipython3",
   "version": "3.10.3"
  },
  "orig_nbformat": 4
 },
 "nbformat": 4,
 "nbformat_minor": 2
}
