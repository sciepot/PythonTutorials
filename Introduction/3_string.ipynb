{
 "cells": [
  {
   "cell_type": "code",
   "execution_count": null,
   "metadata": {},
   "outputs": [],
   "source": [
    "a = 'abc'\n",
    "\n",
    "a = '''\n",
    "Lorem adsfasdfasf \n",
    "asdfsdf \n",
    "asdfasdfd \n",
    "asdf\n",
    "'''\n",
    "\n",
    "b = \"\"\"\n",
    "asdfsdfasdf\n",
    "asdfasdfas\n",
    "asdfasdfasdfa\n",
    "asdfasdfasdf\n",
    "\"\"\""
   ]
  },
  {
   "cell_type": "code",
   "execution_count": 3,
   "metadata": {},
   "outputs": [
    {
     "name": "stdout",
     "output_type": "stream",
     "text": [
      "o\n"
     ]
    }
   ],
   "source": [
    "a = 'Hello'\n",
    "print(a[4])"
   ]
  },
  {
   "cell_type": "code",
   "execution_count": 4,
   "metadata": {},
   "outputs": [
    {
     "name": "stdout",
     "output_type": "stream",
     "text": [
      "b\n",
      "a\n",
      "n\n",
      "a\n",
      "n\n",
      "a\n"
     ]
    }
   ],
   "source": [
    "s = 'banana'\n",
    "for x in 'banana':\n",
    "    print(x)\n",
    "\n",
    "print(s[0])\n",
    "print(s[1])\n",
    "print(s[2])\n",
    "print(s[3])"
   ]
  },
  {
   "cell_type": "code",
   "execution_count": 6,
   "metadata": {},
   "outputs": [
    {
     "name": "stdout",
     "output_type": "stream",
     "text": [
      "8\n"
     ]
    }
   ],
   "source": [
    "a = 'banana  '\n",
    "print(len(a))"
   ]
  },
  {
   "cell_type": "code",
   "execution_count": 10,
   "metadata": {},
   "outputs": [
    {
     "name": "stdout",
     "output_type": "stream",
     "text": [
      "abc\n",
      "cdef\n",
      "bc\n"
     ]
    }
   ],
   "source": [
    "b = \"abcdef\"\n",
    "\n",
    "print(b[:3]) # до 3 не включительно\n",
    "print(b[2:]) # c 2 включительно\n",
    "print(b[1:3]) # bc"
   ]
  },
  {
   "cell_type": "code",
   "execution_count": 12,
   "metadata": {},
   "outputs": [
    {
     "name": "stdout",
     "output_type": "stream",
     "text": [
      "cde\n",
      "def\n"
     ]
    }
   ],
   "source": [
    "b = \"abcdefg\"\n",
    "print(b[-5:-2]) #cde\n",
    "print(b[-4:6]) #def"
   ]
  },
  {
   "cell_type": "code",
   "execution_count": 24,
   "metadata": {},
   "outputs": [
    {
     "name": "stdout",
     "output_type": "stream",
     "text": [
      "HELLO, WORLD!\n",
      "hello, world!\n",
      "Jello, World!\n",
      "['Hello, ', 'orld!']\n",
      "4\n"
     ]
    }
   ],
   "source": [
    "a = 'Hello, World!'\n",
    "\n",
    "print(a.upper())\n",
    "print(a.lower())\n",
    "print(a.replace('H', 'J'))\n",
    "print(a.split('W'))\n",
    "print(a.find('o'))"
   ]
  },
  {
   "cell_type": "code",
   "execution_count": 25,
   "metadata": {},
   "outputs": [
    {
     "name": "stdout",
     "output_type": "stream",
     "text": [
      "Hello, \n"
     ]
    }
   ],
   "source": [
    "a = ['Hello, ', 'orld!', 12, 3.4, ['jelo', 'jell']]\n",
    "print(a[0])"
   ]
  }
 ],
 "metadata": {
  "kernelspec": {
   "display_name": "Python 3",
   "language": "python",
   "name": "python3"
  },
  "language_info": {
   "codemirror_mode": {
    "name": "ipython",
    "version": 3
   },
   "file_extension": ".py",
   "mimetype": "text/x-python",
   "name": "python",
   "nbconvert_exporter": "python",
   "pygments_lexer": "ipython3",
   "version": "3.10.3"
  },
  "orig_nbformat": 4
 },
 "nbformat": 4,
 "nbformat_minor": 2
}
