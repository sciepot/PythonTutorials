{
 "cells": [
  {
   "cell_type": "code",
   "execution_count": null,
   "metadata": {},
   "outputs": [],
   "source": [
    "y = x^2 (аргумент x, вывод у) y = f(x) = x^2 + 2\n",
    "y = 1/x\n",
    "\n",
    "def f(x):\n",
    "    y = x^2 + 2\n",
    "    return y\n",
    "\n",
    "def prog(x, y, z, g):\n",
    "    a = x\n",
    "    b = y\n",
    "    c = z + g\n",
    "    return a, b, c"
   ]
  },
  {
   "cell_type": "code",
   "execution_count": 13,
   "metadata": {},
   "outputs": [
    {
     "data": {
      "text/plain": [
       "7"
      ]
     },
     "execution_count": 13,
     "metadata": {},
     "output_type": "execute_result"
    }
   ],
   "source": [
    "def pow(*args): #x^b declaration args = [1, 2, 3, 4, 5, 6, 7, 8]\n",
    "    x = args[6]\n",
    "    return x\n",
    "\n",
    "pow(1, 2, 3, 4, 5, 6, 7, 8)\n",
    "\n",
    "     "
   ]
  },
  {
   "cell_type": "code",
   "execution_count": 15,
   "metadata": {},
   "outputs": [
    {
     "ename": "TypeError",
     "evalue": "pow() takes 0 positional arguments but 1 was given",
     "output_type": "error",
     "traceback": [
      "\u001b[1;31m---------------------------------------------------------------------------\u001b[0m",
      "\u001b[1;31mTypeError\u001b[0m                                 Traceback (most recent call last)",
      "\u001b[1;32mc:\\Users\\YYY\\Desktop\\Teaching Stuff\\Python tutorial\\4_Functions\\1_function.ipynb Cell 3\u001b[0m in \u001b[0;36m4\n\u001b[0;32m      <a href='vscode-notebook-cell:/c%3A/Users/YYY/Desktop/Teaching%20Stuff/Python%20tutorial/4_Functions/1_function.ipynb#W2sZmlsZQ%3D%3D?line=0'>1</a>\u001b[0m \u001b[39mdef\u001b[39;00m \u001b[39mpow\u001b[39m(\u001b[39m*\u001b[39m\u001b[39m*\u001b[39mdictionrary): \u001b[39m# dictionrary = {}\u001b[39;00m\n\u001b[0;32m      <a href='vscode-notebook-cell:/c%3A/Users/YYY/Desktop/Teaching%20Stuff/Python%20tutorial/4_Functions/1_function.ipynb#W2sZmlsZQ%3D%3D?line=1'>2</a>\u001b[0m     \u001b[39mreturn\u001b[39;00m dictionrary\n\u001b[1;32m----> <a href='vscode-notebook-cell:/c%3A/Users/YYY/Desktop/Teaching%20Stuff/Python%20tutorial/4_Functions/1_function.ipynb#W2sZmlsZQ%3D%3D?line=3'>4</a>\u001b[0m \u001b[39mpow\u001b[39;49m(\u001b[39m1\u001b[39;49m, b\u001b[39m=\u001b[39;49m \u001b[39m2\u001b[39;49m, c\u001b[39m=\u001b[39;49m \u001b[39m3\u001b[39;49m)\n",
      "\u001b[1;31mTypeError\u001b[0m: pow() takes 0 positional arguments but 1 was given"
     ]
    }
   ],
   "source": [
    "def pow(**dictionrary): # dictionrary = {}\n",
    "    return dictionrary\n",
    "\n",
    "pow(a=1, b= 2, c= 3)\n",
    "\n",
    "     "
   ]
  },
  {
   "cell_type": "code",
   "execution_count": 17,
   "metadata": {},
   "outputs": [
    {
     "name": "stdout",
     "output_type": "stream",
     "text": [
      "15\n",
      "23\n"
     ]
    }
   ],
   "source": [
    "def sum(l):\n",
    "    x = 0\n",
    "    for i in l:\n",
    "        x += i\n",
    "    return x # сумма чисел в списке\n",
    "\n",
    "a = (1, 2, 3, 4, 5)\n",
    "l = [1, 2, 3, 4, 6, 7]\n",
    "\n",
    "\n",
    "print(sum(a))\n",
    "print(sum(l))"
   ]
  },
  {
   "cell_type": "code",
   "execution_count": 21,
   "metadata": {},
   "outputs": [
    {
     "name": "stdout",
     "output_type": "stream",
     "text": [
      "100\n",
      "99\n",
      "98\n",
      "97\n",
      "96\n",
      "95\n",
      "94\n",
      "93\n",
      "92\n",
      "91\n",
      "90\n",
      "89\n",
      "88\n",
      "87\n",
      "86\n",
      "85\n",
      "84\n",
      "83\n",
      "82\n",
      "81\n",
      "80\n",
      "79\n",
      "78\n",
      "77\n",
      "76\n",
      "75\n",
      "74\n",
      "73\n",
      "72\n",
      "71\n",
      "70\n",
      "69\n",
      "68\n",
      "67\n",
      "66\n",
      "65\n",
      "64\n",
      "63\n",
      "62\n",
      "61\n",
      "60\n",
      "59\n",
      "58\n",
      "57\n",
      "56\n",
      "55\n",
      "54\n",
      "53\n",
      "52\n",
      "51\n",
      "50\n",
      "49\n",
      "48\n",
      "47\n",
      "46\n",
      "45\n",
      "44\n",
      "43\n",
      "42\n",
      "41\n",
      "40\n",
      "39\n",
      "38\n",
      "37\n",
      "36\n",
      "35\n",
      "34\n",
      "33\n",
      "32\n",
      "31\n",
      "30\n",
      "29\n",
      "28\n",
      "27\n",
      "26\n",
      "25\n",
      "24\n",
      "23\n",
      "22\n",
      "21\n",
      "20\n",
      "19\n",
      "18\n",
      "17\n",
      "16\n",
      "15\n",
      "14\n",
      "13\n",
      "12\n",
      "11\n",
      "10\n",
      "9\n",
      "8\n",
      "7\n",
      "6\n",
      "5\n",
      "4\n",
      "3\n",
      "2\n",
      "1\n",
      "0\n"
     ]
    },
    {
     "data": {
      "text/plain": [
       "0"
      ]
     },
     "execution_count": 21,
     "metadata": {},
     "output_type": "execute_result"
    }
   ],
   "source": [
    "def func(): # Рекурсия\n",
    "    if i <= 0: # отрицательное?\n",
    "        return 0\n",
    "    return func(i - 1) #func(8)\n",
    "\n",
    "func(100)"
   ]
  },
  {
   "cell_type": "code",
   "execution_count": null,
   "metadata": {},
   "outputs": [],
   "source": [
    "x = 4\n",
    "y = 5\n",
    "\n",
    "temp = x # temp = 4\n",
    "x = y # x = 5\n",
    "y = temp # y = 4"
   ]
  }
 ],
 "metadata": {
  "kernelspec": {
   "display_name": "Python 3",
   "language": "python",
   "name": "python3"
  },
  "language_info": {
   "codemirror_mode": {
    "name": "ipython",
    "version": 3
   },
   "file_extension": ".py",
   "mimetype": "text/x-python",
   "name": "python",
   "nbconvert_exporter": "python",
   "pygments_lexer": "ipython3",
   "version": "3.10.3"
  },
  "orig_nbformat": 4
 },
 "nbformat": 4,
 "nbformat_minor": 2
}
