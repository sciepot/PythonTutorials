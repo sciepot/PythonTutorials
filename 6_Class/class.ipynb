{
 "cells": [
  {
   "cell_type": "code",
   "execution_count": 20,
   "metadata": {},
   "outputs": [
    {
     "name": "stdout",
     "output_type": "stream",
     "text": [
      "Woof! Woof!\n",
      "Gav! Gav!\n",
      "Orange\n"
     ]
    },
    {
     "data": {
      "text/plain": [
       "<function print>"
      ]
     },
     "execution_count": 20,
     "metadata": {},
     "output_type": "execute_result"
    }
   ],
   "source": [
    "class Dog:\n",
    "    legs = 4\n",
    "    haveEars = True\n",
    "\n",
    "    def __init__(self, iname, icolor, ispecies, barkString): # initialization\n",
    "        self.name = iname\n",
    "        self.color = icolor\n",
    "        self.species = ispecies\n",
    "        self.barkString = barkString\n",
    "\n",
    "    def bark(self):\n",
    "        print(self.barkString)\n",
    "\n",
    "\n",
    "myDog = Dog('Rex', 'brown', 'Bulldog', 'Woof! Woof!')\n",
    "anotherDog = Dog('Tarzan', 'black', 'Corgi', 'Gav! Gav!')\n",
    "\n",
    "myDog.bark()\n",
    "\n",
    "anotherDog.bark()\n",
    "\n",
    "myDog.color = 'Orange'\n",
    "\n",
    "print(myDog.color)\n",
    "\n",
    "print"
   ]
  },
  {
   "cell_type": "code",
   "execution_count": 21,
   "metadata": {},
   "outputs": [
    {
     "name": "stdout",
     "output_type": "stream",
     "text": [
      "<__main__.Dog object at 0x0000027647973F40>\n",
      "<__main__.Dog object at 0x0000027647972350>\n"
     ]
    }
   ],
   "source": [
    "print(myDog)\n",
    "print(anotherDog)\n",
    "\n",
    "x = 5\n",
    "y = 6\n",
    "a = x + y\n",
    "# 1 "
   ]
  },
  {
   "cell_type": "code",
   "execution_count": 17,
   "metadata": {},
   "outputs": [
    {
     "name": "stdout",
     "output_type": "stream",
     "text": [
      "[1, True, 'Food']\n"
     ]
    }
   ],
   "source": [
    "# 8gb 32 64\n",
    "dram = [1, True, 'Food'] # 8gb /64 bit 0 n = 8 gb / 64\n",
    "# address -> value\n",
    "# address -> address\n",
    "\n",
    "print(dram)"
   ]
  },
  {
   "cell_type": "code",
   "execution_count": null,
   "metadata": {},
   "outputs": [],
   "source": []
  },
  {
   "cell_type": "code",
   "execution_count": null,
   "metadata": {},
   "outputs": [],
   "source": [
    "class Node:\n",
    "    def __init__(self, val=0, next=None):\n",
    "        self.val = val # значение\n",
    "        self.next = next # пойнтер\n",
    "\n"
   ]
  }
 ],
 "metadata": {
  "kernelspec": {
   "display_name": "Python 3",
   "language": "python",
   "name": "python3"
  },
  "language_info": {
   "codemirror_mode": {
    "name": "ipython",
    "version": 3
   },
   "file_extension": ".py",
   "mimetype": "text/x-python",
   "name": "python",
   "nbconvert_exporter": "python",
   "pygments_lexer": "ipython3",
   "version": "3.10.3"
  },
  "orig_nbformat": 4
 },
 "nbformat": 4,
 "nbformat_minor": 2
}
