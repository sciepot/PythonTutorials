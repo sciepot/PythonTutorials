{
 "cells": [
  {
   "cell_type": "code",
   "execution_count": null,
   "metadata": {},
   "outputs": [],
   "source": [
    "month = \"Food\" # 12\n",
    "n = 0\n",
    "\n",
    "match month:\n",
    "    case 'December': # if\n",
    "        n = 12\n",
    "    case 'January': # elif\n",
    "        n = 1\n",
    "    case 'Febuary': # elif\n",
    "        n = 2\n",
    "    case _: # else\n",
    "        n = 0\n",
    "\n",
    "\n"
   ]
  }
 ],
 "metadata": {
  "language_info": {
   "name": "python"
  },
  "orig_nbformat": 4
 },
 "nbformat": 4,
 "nbformat_minor": 2
}
