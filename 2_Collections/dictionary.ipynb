{
 "cells": [
  {
   "cell_type": "code",
   "execution_count": 1,
   "metadata": {},
   "outputs": [],
   "source": [
    "# key - value\n",
    "\n",
    "dict = {\n",
    "  \"brand\": \"Ford\",\n",
    "  12: \"Mustang\",\n",
    "  True: 1964\n",
    "}\n"
   ]
  },
  {
   "cell_type": "code",
   "execution_count": 2,
   "metadata": {},
   "outputs": [
    {
     "data": {
      "text/plain": [
       "'Ford'"
      ]
     },
     "execution_count": 2,
     "metadata": {},
     "output_type": "execute_result"
    }
   ],
   "source": [
    "dict['brand']"
   ]
  },
  {
   "cell_type": "code",
   "execution_count": 3,
   "metadata": {},
   "outputs": [
    {
     "data": {
      "text/plain": [
       "3"
      ]
     },
     "execution_count": 3,
     "metadata": {},
     "output_type": "execute_result"
    }
   ],
   "source": [
    "len(dict)"
   ]
  },
  {
   "cell_type": "code",
   "execution_count": 10,
   "metadata": {},
   "outputs": [
    {
     "data": {
      "text/plain": [
       "[('brand', 'Ford'), ('model', 'Mustang'), ('year', 1964)]"
      ]
     },
     "execution_count": 10,
     "metadata": {},
     "output_type": "execute_result"
    }
   ],
   "source": [
    "dict.items()\n",
    "tuple(dict.values()) # значения\n",
    "list(dict.items())\n"
   ]
  },
  {
   "cell_type": "code",
   "execution_count": null,
   "metadata": {},
   "outputs": [],
   "source": [
    "l = [1, 2, 3]\n"
   ]
  },
  {
   "cell_type": "code",
   "execution_count": null,
   "metadata": {},
   "outputs": [],
   "source": [
    "str  = '12'\n",
    "num = int(str)"
   ]
  },
  {
   "cell_type": "code",
   "execution_count": null,
   "metadata": {},
   "outputs": [],
   "source": [
    "del dict['brand']"
   ]
  },
  {
   "cell_type": "code",
   "execution_count": null,
   "metadata": {},
   "outputs": [],
   "source": [
    "del dict\n",
    "dict.clear()"
   ]
  },
  {
   "cell_type": "code",
   "execution_count": 2,
   "metadata": {},
   "outputs": [
    {
     "name": "stdout",
     "output_type": "stream",
     "text": [
      "brand\n",
      "12\n",
      "True\n"
     ]
    }
   ],
   "source": [
    "\n",
    "dict = {\n",
    "  \"brand\": \"Ford\",\n",
    "  12: \"Mustang\",\n",
    "  True: 1964\n",
    "}\n",
    "\n",
    "for x in dict:\n",
    "    print(x)"
   ]
  },
  {
   "cell_type": "code",
   "execution_count": 5,
   "metadata": {},
   "outputs": [
    {
     "name": "stdout",
     "output_type": "stream",
     "text": [
      "Ford\n",
      "Mustang\n",
      "1964\n",
      "Ford\n",
      "Mustang\n",
      "1964\n"
     ]
    }
   ],
   "source": [
    "for x in dict:\n",
    "    print(dict[x]) # dict['brand']\n",
    "\n",
    "for x in dict.values():\n",
    "    print(x) # dict['brand']"
   ]
  },
  {
   "cell_type": "code",
   "execution_count": 7,
   "metadata": {},
   "outputs": [
    {
     "name": "stdout",
     "output_type": "stream",
     "text": [
      "brand\n",
      "12\n",
      "True\n",
      "brand\n",
      "12\n",
      "True\n"
     ]
    }
   ],
   "source": [
    "for x in dict:\n",
    "    print(x) # dict['brand']\n",
    "\n",
    "for x in dict.keys():\n",
    "    print(x) # dict['brand']"
   ]
  },
  {
   "cell_type": "code",
   "execution_count": 8,
   "metadata": {},
   "outputs": [
    {
     "name": "stdout",
     "output_type": "stream",
     "text": [
      "brand Ford\n",
      "12 Mustang\n",
      "True 1964\n"
     ]
    }
   ],
   "source": [
    "x, y = (1, 2)\n",
    "\n",
    "for x, y in dict.items(): # (brand, Ford)\n",
    "  print(x, y)"
   ]
  },
  {
   "cell_type": "code",
   "execution_count": null,
   "metadata": {},
   "outputs": [],
   "source": [
    "a = dict.copy() # "
   ]
  },
  {
   "cell_type": "code",
   "execution_count": null,
   "metadata": {},
   "outputs": [],
   "source": [
    "myfamily = {\n",
    "  \"child1\" : {\n",
    "    \"name\" : \"Emil\",\n",
    "    \"year\" : 2004\n",
    "  },\n",
    "  \"child2\" : {\n",
    "    \"name\" : \"Tobias\",\n",
    "    \"year\" : 2007\n",
    "  },\n",
    "  \"child3\" : {\n",
    "    \"name\" : \"Linus\",\n",
    "    \"year\" : 2011\n",
    "  }\n",
    "}"
   ]
  },
  {
   "cell_type": "code",
   "execution_count": null,
   "metadata": {},
   "outputs": [],
   "source": [
    "dict.pop('brand')\n",
    "dict['brand']\n",
    "dict.get('brand')"
   ]
  },
  {
   "cell_type": "code",
   "execution_count": 10,
   "metadata": {},
   "outputs": [
    {
     "name": "stdout",
     "output_type": "stream",
     "text": [
      "1 a a\n",
      "2 b b\n",
      "3 c c\n"
     ]
    }
   ],
   "source": [
    "l = [1, 2, 3]\n",
    "a = ['a', 'b', 'c']\n",
    "\n",
    "s = ['a', 'b', 'c']\n",
    "\n",
    "for x, y, z in zip(l, a, s): # (1, 'a')\n",
    "    print (x, y, z)"
   ]
  },
  {
   "cell_type": "code",
   "execution_count": 12,
   "metadata": {},
   "outputs": [
    {
     "name": "stdout",
     "output_type": "stream",
     "text": [
      "0 brand\n",
      "1 12\n",
      "2 True\n"
     ]
    }
   ],
   "source": [
    "dict = {\n",
    "  \"brand\": \"Ford\",\n",
    "  12: \"Mustang\",\n",
    "  True: 1964\n",
    "}\n",
    "\n",
    "for i, y in enumerate(dict): # (0, 'brand') [0, 1 len(dict)]\n",
    "    print(i, y)"
   ]
  },
  {
   "cell_type": "code",
   "execution_count": null,
   "metadata": {},
   "outputs": [],
   "source": []
  },
  {
   "cell_type": "markdown",
   "metadata": {},
   "source": [
    "dict = {\n",
    "  \"brand\": \"Ford\",\n",
    "  12: \"Mustang\",\n",
    "  True: 1964\n",
    "}\n",
    "l = [1, 2, 3]\n",
    "\n",
    "\n"
   ]
  }
 ],
 "metadata": {
  "kernelspec": {
   "display_name": "Python 3",
   "language": "python",
   "name": "python3"
  },
  "language_info": {
   "codemirror_mode": {
    "name": "ipython",
    "version": 3
   },
   "file_extension": ".py",
   "mimetype": "text/x-python",
   "name": "python",
   "nbconvert_exporter": "python",
   "pygments_lexer": "ipython3",
   "version": "3.10.3"
  },
  "orig_nbformat": 4
 },
 "nbformat": 4,
 "nbformat_minor": 2
}
